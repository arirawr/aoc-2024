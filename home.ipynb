{
 "cells": [
  {
   "cell_type": "markdown",
   "metadata": {},
   "source": [
    "# Advent of Code 2024"
   ]
  },
  {
   "cell_type": "markdown",
   "metadata": {},
   "source": [
    "## Contents\n",
    "<table>\n",
    "<tr><td>\n",
    "\n",
    "- [Day 1](#day-1)\n",
    "- [Day 2](#day-2)\n",
    "- [Day 3](#day-3)\n",
    "- [Day 4](#day-4)\n",
    "- [Day 5](#day-5)\n",
    "\n",
    "</td><td>\n",
    "\n",
    "- [Day 6](#day-6)\n",
    "- [Day 7](#day-7)\n",
    "- [Day 8](#day-8)\n",
    "- [Day 9](#day-9)\n",
    "- [Day 10](#day-10)\n",
    "\n",
    "</td><td>\n",
    "\n",
    "- [Day 11](#day-11)\n",
    "- [Day 12](#day-12)\n",
    "- [Day 13](#day-13)\n",
    "- [Day 14](#day-14)\n",
    "- [Day 15](#day-15)\n",
    "\n",
    "</td><td>\n",
    "\n",
    "- [Day 16](#day-16)\n",
    "- [Day 17](#day-17)\n",
    "- [Day 18](#day-18)\n",
    "- [Day 19](#day-19)\n",
    "- [Day 20](#day-20)\n",
    "\n",
    "</td><td>\n",
    "\n",
    "- [Day 21](#day-21)\n",
    "- [Day 22](#day-22)\n",
    "- [Day 23](#day-23)\n",
    "- [Day 24](#day-24)\n",
    "- [Day 25](#day-25)\n",
    "\n",
    "</td></tr>\n",
    "</table>"
   ]
  },
  {
   "cell_type": "markdown",
   "metadata": {},
   "source": [
    "## Boilerplate"
   ]
  },
  {
   "cell_type": "code",
   "execution_count": 1,
   "metadata": {},
   "outputs": [],
   "source": [
    "# SETUP #\n",
    "# Currently just what was needed in 2023, will adjust as we go\n",
    "import sys\n",
    "import math\n",
    "import operator\n",
    "import copy\n",
    "import re\n",
    "import numpy as np\n",
    "import cProfile\n",
    "from itertools import compress, combinations, product\n",
    "from functools import reduce, cmp_to_key, cache\n",
    "from dataclasses import dataclass\n",
    "from typing import Tuple, List, Dict, TypeVar\n",
    "from collections import Counter, defaultdict\n",
    "\n",
    "T = TypeVar('T')\n",
    "\n",
    "@dataclass\n",
    "class DayData:\n",
    "    input: str\n",
    "    test_input: str\n",
    "    test_solutions: Tuple[int, int]\n",
    "\n",
    "# Load input and solution data #\n",
    "def init_day(day, test_solutions) -> DayData:\n",
    "\n",
    "    def read_file(path):\n",
    "        with open(path, mode=\"rt\") as f:\n",
    "            return f.read()\n",
    "\n",
    "    return DayData(\n",
    "        input = read_file(f\"inputs/{day}.txt\"),\n",
    "        test_input = read_file(f\"test_inputs/{day}.txt\"),\n",
    "        test_solutions = test_solutions\n",
    "    )\n",
    "\n",
    "# Run and test code #\n",
    "def run_test(func_to_run, day_data):\n",
    "    def test(test: int, solution: int):\n",
    "        return \"Success!\" if test == solution else f\"Failed. Expected {solution}, but got {test}.\"\n",
    "\n",
    "    print(f\"Test Part 1: {test(func_to_run(1,day_data.test_input), day_data.test_solutions[0])}\")\n",
    "    print(f\"Test Part 2: {test(func_to_run(2,day_data.test_input), day_data.test_solutions[1])}\")\n",
    "\n",
    "def run_real(func_to_run, day_data):\n",
    "    %time print(f\"Answer Part 1: {func_to_run(1,day_data.input)}\")\n",
    "    %time print(f\"Answer Part 2: {func_to_run(2,day_data.input)}\")\n",
    "\n",
    "# Parsing helpers #\n",
    "def aoc_lines(input) -> List[str]:\n",
    "    return input.strip().splitlines()\n",
    "\n",
    "def aoc_lists(input, type=int, delimiter=None) -> List[List[T]]:\n",
    "    return [[type(item) for item in line.split(delimiter)] for line in aoc_lines(input)]\n",
    "\n",
    "def aoc_grid(input, type=int) -> np.ndarray:\n",
    "    return np.array([list(map(type, line)) for line in aoc_lines(input)], dtype=type)\n",
    "\n",
    "def aoc_grid_inbounds(pos, grid) -> bool:\n",
    "    return 0 <= pos[0] < grid.shape[0] and 0 <= pos[1] < grid.shape[1]\n",
    "\n",
    "def aoc_keyvalue(input, delimiter=\":\", key_type=str, value_type=int) -> Dict[T,T]:\n",
    "    return {\n",
    "        key.strip(): value.strip() for key, value in (line.split(delimiter, 1) for line in aoc_lines(input))\n",
    "        }\n"
   ]
  },
  {
   "cell_type": "markdown",
   "metadata": {},
   "source": [
    "## Day 1\n",
    "\n",
    "[Link to puzzle](https://adventofcode.com/2024/day/1)"
   ]
  },
  {
   "cell_type": "code",
   "execution_count": 74,
   "metadata": {},
   "outputs": [
    {
     "name": "stdout",
     "output_type": "stream",
     "text": [
      "Test Part 1: Success!\n",
      "Test Part 2: Success!\n",
      "Answer Part 1: 2815556\n",
      "CPU times: user 1.25 ms, sys: 256 µs, total: 1.5 ms\n",
      "Wall time: 1.29 ms\n",
      "Answer Part 2: 23927637\n",
      "CPU times: user 1.04 ms, sys: 17 µs, total: 1.06 ms\n",
      "Wall time: 1.06 ms\n"
     ]
    }
   ],
   "source": [
    "# DAY 1 #\n",
    "def run(part,i):\n",
    "    left, right = zip(*(aoc_lists(i))) # Divide inputs into left and right columns\n",
    "\n",
    "    def part_1():\n",
    "        differences = [abs(l - r) for l, r in zip(sorted(left), sorted(right))]\n",
    "        return sum(differences)\n",
    "\n",
    "    def part_2():\n",
    "        # Similarity - multiply each number in left list by the number of times it appears in the right list\n",
    "        right_counts = Counter(right) # originally used right.count(), but this is significantly faster (13ms -> 1ms)\n",
    "        return sum(value * right_counts[value] for value in left) \n",
    "\n",
    "    return part_1() if part == 1 else part_2()\n",
    "\n",
    "day_data = init_day(day=1, test_solutions=(11, 31))\n",
    "run_test(run, day_data)\n",
    "run_real(run, day_data)"
   ]
  },
  {
   "cell_type": "markdown",
   "metadata": {},
   "source": [
    "## Day 2\n",
    "\n",
    "[Link to puzzle](https://adventofcode.com/2024/day/2)"
   ]
  },
  {
   "cell_type": "code",
   "execution_count": 75,
   "metadata": {},
   "outputs": [
    {
     "name": "stdout",
     "output_type": "stream",
     "text": [
      "Test Part 1: Success!\n",
      "Test Part 2: Success!\n",
      "Answer Part 1: 585\n",
      "CPU times: user 3.41 ms, sys: 164 µs, total: 3.58 ms\n",
      "Wall time: 3.41 ms\n",
      "Answer Part 2: 626\n",
      "CPU times: user 7.6 ms, sys: 109 µs, total: 7.71 ms\n",
      "Wall time: 7.72 ms\n"
     ]
    }
   ],
   "source": [
    "# DAY 2 #\n",
    "def run(part,i):\n",
    "    def check(report):\n",
    "        def is_safe(levels):\n",
    "            return (\n",
    "                # Safe if levels are asc/desc and no step is <1 or >3\n",
    "                levels in (sorted(levels), sorted(levels, reverse=True))\n",
    "                and all(1 <= abs(right - left) <= 3 for left, right in zip(levels, levels[1:])) # zip magic - this compares positions (0,1),(1,2),etc.\n",
    "            )\n",
    "        \n",
    "        if is_safe(report): return True\n",
    "        \n",
    "        if part == 2: # Safe if any permutation with 1 step removed would be safe\n",
    "            return any(is_safe(report[:pos] + report[pos + 1:]) for pos in range(len(report)))\n",
    "\n",
    "        return False\n",
    "\n",
    "    reports = aoc_lists(i)\n",
    "    return sum(check(report) for report in reports)\n",
    "\n",
    "day_data = init_day(day=2, test_solutions=(2, 4))\n",
    "run_test(run, day_data)\n",
    "run_real(run, day_data)"
   ]
  },
  {
   "cell_type": "markdown",
   "metadata": {},
   "source": [
    "## Day 3\n",
    "\n",
    "[Link to puzzle](https://adventofcode.com/2024/day/3)"
   ]
  },
  {
   "cell_type": "code",
   "execution_count": 108,
   "metadata": {},
   "outputs": [
    {
     "name": "stdout",
     "output_type": "stream",
     "text": [
      "Test Part 1: Success!\n",
      "Test Part 2: Success!\n",
      "Answer Part 1: 170778545\n",
      "CPU times: user 505 µs, sys: 0 ns, total: 505 µs\n",
      "Wall time: 509 µs\n",
      "Answer Part 2: 82868252\n",
      "CPU times: user 366 µs, sys: 1 µs, total: 367 µs\n",
      "Wall time: 369 µs\n"
     ]
    }
   ],
   "source": [
    "# DAY 3 #\n",
    "# and so the regex begins -_-\n",
    "def run(part,i):\n",
    "    def mul(input: str): # find all mul(), multiply, and then sum the results\n",
    "        matches = re.findall(r\"mul\\((\\d+),(\\d+)\\)\", input) # regex for mul(digits,digits)\n",
    "        return sum(int(a)*int(b) for a,b in matches)\n",
    "\n",
    "    # in p2, anything between a don't() and the next do() is replaced with \"\"\n",
    "    mulstring = i if part == 1 else re.sub(r\"don't\\(\\).*?do\\(\\)\", \"\", i, flags=re.DOTALL)\n",
    "    return mul(mulstring)\n",
    "\n",
    "day_data = init_day(day=3, test_solutions=(161, 48))\n",
    "run_test(run, day_data)\n",
    "run_real(run, day_data)"
   ]
  },
  {
   "cell_type": "markdown",
   "metadata": {},
   "source": [
    "## Day 4\n",
    "\n",
    "[Link to puzzle](https://adventofcode.com/2024/day/4)"
   ]
  },
  {
   "cell_type": "code",
   "execution_count": 193,
   "metadata": {},
   "outputs": [
    {
     "name": "stdout",
     "output_type": "stream",
     "text": [
      "Test Part 1: Success!\n",
      "Test Part 2: Success!\n",
      "Answer Part 1: 2532\n",
      "CPU times: user 107 ms, sys: 652 µs, total: 107 ms\n",
      "Wall time: 108 ms\n",
      "Answer Part 2: 1941\n",
      "CPU times: user 43.4 ms, sys: 203 µs, total: 43.6 ms\n",
      "Wall time: 43.7 ms\n"
     ]
    }
   ],
   "source": [
    "# DAY 4 #\n",
    "def run(part,i):\n",
    "    grid = aoc_grid(i, type=str)\n",
    "    cardinal_directions = [(0, 1),(0, -1),(1, 0),(-1, 0)]\n",
    "    diagonal_directions = [(1, 1),(-1, -1),(1, -1),(-1, 1)]\n",
    "    all_directions = cardinal_directions+diagonal_directions\n",
    "\n",
    "    def find_matches(word, start, directions):\n",
    "        total = 0\n",
    "        for row, col in product(range(grid.shape[0]), range(grid.shape[1])):\n",
    "            if grid[row, col] != start: continue\n",
    "\n",
    "            # we are now at the start - check in all valid directions\n",
    "            mas_count = 0\n",
    "            for dx, dy in directions:\n",
    "\n",
    "                # Part 1: Find # of 'word' in the grid\n",
    "                if part == 1:\n",
    "                    if all(\n",
    "                        aoc_grid_inbounds(pos := (row+index*dx, col+index*dy), grid) and\n",
    "                        grid[pos] == word[index]\n",
    "                        for index in range(len(word))\n",
    "                    ):\n",
    "                        total += 1\n",
    "\n",
    "                # Part 2: Find # of diagonally-intersecting 'MAS' in the grid\n",
    "                elif part == 2:\n",
    "                    if (\n",
    "                        aoc_grid_inbounds(pos_m := (row + dx, col + dy), grid) and grid[pos_m] == 'M' and\n",
    "                        aoc_grid_inbounds(pos_s := (row - dx, col - dy), grid) and grid[pos_s] == 'S' # MAS! (or SAM)\n",
    "                    ):\n",
    "                        mas_count += 1\n",
    "                    if mas_count == 2:  # if we have 2 valid MAS, we have a cross (X-MAS)\n",
    "                        total += 1; mas_count = 0\n",
    "        return total\n",
    "\n",
    "    word = 'XMAS' if part == 1 else ''\n",
    "    start = word[0] if part == 1 else 'A'\n",
    "    directions = all_directions if part == 1 else diagonal_directions\n",
    "    return find_matches(word, start, directions)\n",
    "\n",
    "day_data = init_day(day=4, test_solutions=(18, 9))\n",
    "run_test(run, day_data)\n",
    "run_real(run, day_data)"
   ]
  },
  {
   "cell_type": "markdown",
   "metadata": {},
   "source": [
    "## Day 5\n",
    "\n",
    "[Link to puzzle](https://adventofcode.com/2024/day/5)"
   ]
  },
  {
   "cell_type": "code",
   "execution_count": 233,
   "metadata": {},
   "outputs": [
    {
     "name": "stdout",
     "output_type": "stream",
     "text": [
      "Test Part 1: Success!\n",
      "Test Part 2: Success!\n",
      "Answer Part 1: 4924\n",
      "CPU times: user 139 ms, sys: 1.91 ms, total: 141 ms\n",
      "Wall time: 141 ms\n",
      "Answer Part 2: 6085\n",
      "CPU times: user 175 ms, sys: 1.53 ms, total: 177 ms\n",
      "Wall time: 177 ms\n"
     ]
    }
   ],
   "source": [
    "# DAY 5 #\n",
    "def run(part,i):\n",
    "    rules, updates = i.split('\\n\\n')\n",
    "    rules = aoc_lists(rules, int, \"|\")\n",
    "    updates = aoc_lists(updates, int, \",\")\n",
    "\n",
    "    def add_middles(updates):\n",
    "        return sum(update[len(update) // 2] for update in updates) # add up middle pages of each update in the list\n",
    "\n",
    "    def is_valid_update(update):\n",
    "        before = []; after = update[:]\n",
    "        for page in update:\n",
    "            for rule in rules:\n",
    "                # check if any rules for this page are broken\n",
    "                if (rule[0] == page and rule[1] in before) or (rule[1] == page and rule[0] in after):\n",
    "                    return False\n",
    "            before.append(after.pop(0))\n",
    "        return True\n",
    "\n",
    "    def fix_update(update):\n",
    "        dependency_map = defaultdict(set) # will create empty set for a key if key doesn't exist\n",
    "        for first_page, second_page in rules:\n",
    "            if first_page in update and second_page in update:\n",
    "                dependency_map[second_page].add(first_page) # add 1st page as a dependency (must come first) for 2nd page\n",
    "        update.sort(key=lambda x: len(dependency_map[x])) # sort by # of dependencies\n",
    "        return update\n",
    "                \n",
    "    correct = []\n",
    "    for update in updates:\n",
    "        if is_valid_update(update):\n",
    "            if part == 1: # only look at correct updates\n",
    "                correct.append(update)\n",
    "        elif part == 2: # only look at incorrect updates (after fixing them)\n",
    "            correct.append(fix_update(update))\n",
    "        \n",
    "    return add_middles(correct)\n",
    "\n",
    "day_data = init_day(day=5, test_solutions=(143, 123))\n",
    "run_test(run, day_data)\n",
    "run_real(run, day_data)"
   ]
  },
  {
   "cell_type": "markdown",
   "metadata": {},
   "source": [
    "## Day 6\n",
    "\n",
    "[Link to puzzle](https://adventofcode.com/2024/day/6)"
   ]
  },
  {
   "cell_type": "code",
   "execution_count": 6,
   "metadata": {},
   "outputs": [
    {
     "name": "stdout",
     "output_type": "stream",
     "text": [
      "Test Part 1: Success!\n",
      "Test Part 2: Success!\n",
      "Answer Part 1: 5564\n",
      "CPU times: user 24.9 ms, sys: 474 µs, total: 25.4 ms\n",
      "Wall time: 25.4 ms\n",
      "Answer Part 2: 1976\n",
      "CPU times: user 37.9 s, sys: 161 ms, total: 38.1 s\n",
      "Wall time: 38.1 s\n"
     ]
    }
   ],
   "source": [
    "# DAY 6 #\n",
    "def run(part,i):\n",
    "    grid = aoc_grid(i, str)\n",
    "    directions = [(0,-1),(-1,0),(0,1),(1,0)]\n",
    "\n",
    "    def turn(dir):\n",
    "        for ind,d in enumerate(directions):\n",
    "            if d == dir: \n",
    "                return directions[ind+1 if ind < 3 else 0]\n",
    "\n",
    "    def walk(pos, dir):\n",
    "        visited = set()\n",
    "        while aoc_grid_inbounds(pos, grid):\n",
    "            if (pos,dir) in visited:\n",
    "                return True # looping\n",
    "            else: \n",
    "                visited.add((pos,dir))\n",
    "            \n",
    "            next_step = (pos[0]+dir[0], pos[1]+dir[1])\n",
    "            if aoc_grid_inbounds(next_step, grid) and grid[next_step] == '#':\n",
    "                dir = turn(dir)\n",
    "            else:\n",
    "                pos = next_step\n",
    "            \n",
    "        return {pos for pos, _ in visited} # no loop, return unique positions\n",
    "\n",
    "    def find_loops(path):\n",
    "        loops = 0\n",
    "        for pos in path:\n",
    "            if pos != guard_start:\n",
    "                grid[pos] = '#'\n",
    "                if walk(guard_start, dir) == True:\n",
    "                    loops += 1\n",
    "                grid[pos] = '.'\n",
    "        return loops\n",
    "\n",
    "    for row, grid_row in enumerate(grid):\n",
    "        for col, char in enumerate(grid_row):\n",
    "            if char == '^':\n",
    "                guard_start = (row, col)\n",
    "                dir = (-1,0) # in this problem, guard always starts facing up\n",
    "\n",
    "    guard_path = walk(guard_start, dir)\n",
    "\n",
    "    return len(guard_path) if part == 1 else find_loops(guard_path)\n",
    "\n",
    "day_data = init_day(day=6, test_solutions=(41, 6))\n",
    "run_test(run, day_data)\n",
    "run_real(run, day_data)"
   ]
  },
  {
   "cell_type": "markdown",
   "metadata": {},
   "source": [
    "## Day 7\n",
    "\n",
    "[Link to puzzle](https://adventofcode.com/2024/day/7)"
   ]
  },
  {
   "cell_type": "code",
   "execution_count": 12,
   "metadata": {},
   "outputs": [
    {
     "name": "stdout",
     "output_type": "stream",
     "text": [
      "Test Part 1: Success!\n",
      "Test Part 2: Success!\n",
      "Answer Part 1: 1430271835320\n",
      "CPU times: user 342 ms, sys: 2.69 ms, total: 344 ms\n",
      "Wall time: 344 ms\n",
      "Answer Part 2: 456565678667482\n",
      "CPU times: user 21.8 s, sys: 224 ms, total: 22.1 s\n",
      "Wall time: 22.2 s\n"
     ]
    }
   ],
   "source": [
    "# DAY 7 #\n",
    "def run(part,i):\n",
    "    input = [\n",
    "        (int(result), list(map(int, equation.split())))\n",
    "        for line in aoc_lines(i)\n",
    "        for result, equation in [line.split(\": \")]\n",
    "    ]\n",
    "\n",
    "    def eval_ltr(values, operators, target):\n",
    "        result = values[0]\n",
    "        for i, op in enumerate(operators):\n",
    "            if result > target:\n",
    "                return False\n",
    "            if op == '+':\n",
    "                result += values[i + 1]\n",
    "            elif op == '*':\n",
    "                result *= values[i + 1]\n",
    "            elif op == '||':\n",
    "                result = int(str(result) + str(values[i+1]))\n",
    "        if result == target:\n",
    "            return True\n",
    "        else:\n",
    "            return False\n",
    "\n",
    "    def is_possible(result, equation):\n",
    "        operators = ['+', '*'] if part == 1 else ['+', '*', '||']\n",
    "        for ops in product(operators, repeat=len(equation) - 1):\n",
    "            if eval_ltr(equation,ops,result):\n",
    "                return True\n",
    "        return False\n",
    "\n",
    "    total = 0\n",
    "    for result, equation in input:\n",
    "        if is_possible(result, equation):\n",
    "            total += result\n",
    "\n",
    "    return total\n",
    "\n",
    "day_data = init_day(day=7, test_solutions=(3749, 11387))\n",
    "run_test(run, day_data)\n",
    "run_real(run, day_data)"
   ]
  }
 ],
 "metadata": {
  "kernelspec": {
   "display_name": "Python 3.9.6 ('venv': venv)",
   "language": "python",
   "name": "python3"
  },
  "language_info": {
   "codemirror_mode": {
    "name": "ipython",
    "version": 3
   },
   "file_extension": ".py",
   "mimetype": "text/x-python",
   "name": "python",
   "nbconvert_exporter": "python",
   "pygments_lexer": "ipython3",
   "version": "3.9.6"
  },
  "orig_nbformat": 4,
  "vscode": {
   "interpreter": {
    "hash": "8763caf7a1e471221724545bfbf75bc6fca653c642faac8cf5a8de4de83a5881"
   }
  }
 },
 "nbformat": 4,
 "nbformat_minor": 2
}
