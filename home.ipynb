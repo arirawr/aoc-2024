{
 "cells": [
  {
   "cell_type": "markdown",
   "metadata": {},
   "source": [
    "# Advent of Code 2024"
   ]
  },
  {
   "cell_type": "markdown",
   "metadata": {},
   "source": [
    "## Contents\n",
    "<table>\n",
    "<tr><td>\n",
    "\n",
    "- [Day 1](#day-1)\n",
    "- [Day 2](#day-2)\n",
    "- [Day 3](#day-3)\n",
    "- [Day 4](#day-4)\n",
    "- [Day 5](#day-5)\n",
    "\n",
    "</td><td>\n",
    "\n",
    "- [Day 6](#day-6)\n",
    "- [Day 7](#day-7)\n",
    "- [Day 8](#day-8)\n",
    "- [Day 9](#day-9)\n",
    "- [Day 10](#day-10)\n",
    "\n",
    "</td><td>\n",
    "\n",
    "- [Day 11](#day-11)\n",
    "- [Day 12](#day-12)\n",
    "- [Day 13](#day-13)\n",
    "- [Day 14](#day-14)\n",
    "- [Day 15](#day-15)\n",
    "\n",
    "</td><td>\n",
    "\n",
    "- [Day 16](#day-16)\n",
    "- [Day 17](#day-17)\n",
    "- [Day 18](#day-18)\n",
    "- [Day 19](#day-19)\n",
    "- [Day 20](#day-20)\n",
    "\n",
    "</td><td>\n",
    "\n",
    "- [Day 21](#day-21)\n",
    "- [Day 22](#day-22)\n",
    "- [Day 23](#day-23)\n",
    "- [Day 24](#day-24)\n",
    "- [Day 25](#day-25)\n",
    "\n",
    "</td></tr>\n",
    "</table>"
   ]
  },
  {
   "cell_type": "markdown",
   "metadata": {},
   "source": [
    "## Boilerplate"
   ]
  },
  {
   "cell_type": "code",
   "execution_count": 24,
   "metadata": {},
   "outputs": [],
   "source": [
    "# SETUP #\n",
    "# Currently just what was needed in 2023, will adjust as we go\n",
    "import sys\n",
    "import math\n",
    "import operator\n",
    "import copy\n",
    "import numpy as np\n",
    "import cProfile\n",
    "from itertools import compress, combinations\n",
    "from functools import reduce, cmp_to_key, cache\n",
    "from dataclasses import dataclass\n",
    "from typing import Tuple\n",
    "from collections import Counter\n",
    "\n",
    "@dataclass\n",
    "class DayData:\n",
    "    input: str\n",
    "    test_input: str\n",
    "    test_solutions: Tuple[int, int]\n",
    "\n",
    "# Load input and solution data #\n",
    "def init_day(day, test_solutions) -> DayData:\n",
    "\n",
    "    def read_file(path):\n",
    "        with open(path, mode=\"rt\") as f:\n",
    "            return f.read()\n",
    "\n",
    "    return DayData(\n",
    "        input = read_file(f\"inputs/{day}.txt\"),\n",
    "        test_input = read_file(f\"test_inputs/{day}.txt\"),\n",
    "        test_solutions = test_solutions\n",
    "    )\n",
    "\n",
    "# Run and test code #\n",
    "def test(test: int, solution: int):\n",
    "    return \"Success!\" if test == solution else f\"Failed. Expected {solution}, but got {test}.\"\n",
    "\n",
    "def run_test(func_to_run, day_data):\n",
    "    print(f\"Test Part 1: {test(func_to_run(1,day_data.test_input), day_data.test_solutions[0])}\")\n",
    "    print(f\"Test Part 2: {test(func_to_run(2,day_data.test_input), day_data.test_solutions[1])}\")\n",
    "\n",
    "def run_real(func_to_run, day_data):\n",
    "    %time print(f\"Answer Part 1: {func_to_run(1,day_data.input)}\")\n",
    "    %time print(f\"Answer Part 2: {func_to_run(2,day_data.input)}\")\n"
   ]
  },
  {
   "cell_type": "markdown",
   "metadata": {},
   "source": [
    "## Day 1\n",
    "\n",
    "[Link to puzzle](https://adventofcode.com/2024/day/1)"
   ]
  },
  {
   "cell_type": "code",
   "execution_count": 28,
   "metadata": {},
   "outputs": [
    {
     "name": "stdout",
     "output_type": "stream",
     "text": [
      "Test Part 1: Success!\n",
      "Test Part 2: Success!\n",
      "Answer Part 1: 2815556\n",
      "CPU times: user 1.76 ms, sys: 20 µs, total: 1.78 ms\n",
      "Wall time: 1.78 ms\n",
      "Answer Part 2: 23927637\n",
      "CPU times: user 1.02 ms, sys: 0 ns, total: 1.02 ms\n",
      "Wall time: 1.03 ms\n"
     ]
    }
   ],
   "source": [
    "# DAY 1 #\n",
    "def run(part,i):\n",
    "    left, right = zip(*(map(int, line.split()) for line in i.split('\\n'))) # Divide inputs into left and right columns\n",
    "\n",
    "    def part_1():\n",
    "        differences = [abs(l - r) for l, r in zip(sorted(left), sorted(right))]\n",
    "        return sum(differences)\n",
    "\n",
    "    def part_2():\n",
    "        # Similarity - multiply each number in left list by the number of times it appears in the right list\n",
    "        right_counts = Counter(right) # originally used right.count(), but this is significantly faster (13ms -> 1ms)\n",
    "        return sum(value * right_counts[value] for value in left) \n",
    "\n",
    "    return part_1() if part == 1 else part_2()\n",
    "\n",
    "day_data = init_day(day=1, test_solutions=(11, 31))\n",
    "run_test(run, day_data)\n",
    "run_real(run, day_data)"
   ]
  },
  {
   "cell_type": "markdown",
   "metadata": {},
   "source": [
    "## Day 2\n",
    "\n",
    "[Link to puzzle](https://adventofcode.com/2024/day/2)"
   ]
  },
  {
   "cell_type": "code",
   "execution_count": null,
   "metadata": {},
   "outputs": [],
   "source": [
    "# DAY 2 #\n",
    "init_day(day=2, test_solutions=(0, 0))\n",
    "\n",
    "def run(part,i):\n",
    "    return 0\n",
    "\n",
    "%time run_test(run)\n",
    "%time run_real(run)"
   ]
  },
  {
   "cell_type": "markdown",
   "metadata": {},
   "source": [
    "## Day 3\n",
    "\n",
    "[Link to puzzle](https://adventofcode.com/2024/day/3)"
   ]
  },
  {
   "cell_type": "code",
   "execution_count": null,
   "metadata": {},
   "outputs": [],
   "source": [
    "# DAY 3 #\n",
    "init_day(day=3, test_solutions=(0, 0))\n",
    "\n",
    "def run(part,i):\n",
    "    return 0\n",
    "\n",
    "%time run_test(run)\n",
    "%time run_real(run)"
   ]
  },
  {
   "cell_type": "markdown",
   "metadata": {},
   "source": [
    "## Day 4\n",
    "\n",
    "[Link to puzzle](https://adventofcode.com/2024/day/4)"
   ]
  },
  {
   "cell_type": "code",
   "execution_count": null,
   "metadata": {},
   "outputs": [],
   "source": [
    "# DAY 4 #\n",
    "init_day(day=4, test_solutions=(0, 0))\n",
    "\n",
    "def run(part,i):\n",
    "    return 0\n",
    "\n",
    "%time run_test(run)\n",
    "%time run_real(run)"
   ]
  },
  {
   "cell_type": "markdown",
   "metadata": {},
   "source": [
    "## Day 5\n",
    "\n",
    "[Link to puzzle](https://adventofcode.com/2024/day/5)"
   ]
  },
  {
   "cell_type": "code",
   "execution_count": null,
   "metadata": {},
   "outputs": [],
   "source": [
    "# DAY 5 #\n",
    "init_day(day=5, test_solutions=(0, 0))\n",
    "\n",
    "def run(part,i):\n",
    "    return 0\n",
    "\n",
    "%time run_test(run)\n",
    "%time run_real(run)"
   ]
  },
  {
   "cell_type": "markdown",
   "metadata": {},
   "source": [
    "## Day 6\n",
    "\n",
    "[Link to puzzle](https://adventofcode.com/2024/day/6)"
   ]
  },
  {
   "cell_type": "code",
   "execution_count": null,
   "metadata": {},
   "outputs": [],
   "source": [
    "# DAY 6 #\n",
    "init_day(day=6, test_solutions=(0, 0))\n",
    "\n",
    "def run(part,i):\n",
    "    return 0\n",
    "\n",
    "%time run_test(run)\n",
    "%time run_real(run)"
   ]
  },
  {
   "cell_type": "markdown",
   "metadata": {},
   "source": [
    "## Day 7\n",
    "\n",
    "[Link to puzzle](https://adventofcode.com/2024/day/7)"
   ]
  },
  {
   "cell_type": "code",
   "execution_count": null,
   "metadata": {},
   "outputs": [],
   "source": [
    "# DAY 7 #\n",
    "init_day(day=7, test_solutions=(0, 0))\n",
    "\n",
    "def run(part,i):\n",
    "    return 0\n",
    "\n",
    "%time run_test(run)\n",
    "%time run_real(run)"
   ]
  }
 ],
 "metadata": {
  "kernelspec": {
   "display_name": "Python 3.9.6 ('venv': venv)",
   "language": "python",
   "name": "python3"
  },
  "language_info": {
   "codemirror_mode": {
    "name": "ipython",
    "version": 3
   },
   "file_extension": ".py",
   "mimetype": "text/x-python",
   "name": "python",
   "nbconvert_exporter": "python",
   "pygments_lexer": "ipython3",
   "version": "3.9.6"
  },
  "orig_nbformat": 4,
  "vscode": {
   "interpreter": {
    "hash": "8763caf7a1e471221724545bfbf75bc6fca653c642faac8cf5a8de4de83a5881"
   }
  }
 },
 "nbformat": 4,
 "nbformat_minor": 2
}
