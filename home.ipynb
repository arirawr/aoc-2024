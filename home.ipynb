{
 "cells": [
  {
   "cell_type": "markdown",
   "metadata": {},
   "source": [
    "# Advent of Code 2024"
   ]
  },
  {
   "cell_type": "markdown",
   "metadata": {},
   "source": [
    "## Contents\n",
    "<table>\n",
    "<tr><td>\n",
    "\n",
    "- [Day 1](#day-1)\n",
    "- [Day 2](#day-2)\n",
    "- [Day 3](#day-3)\n",
    "- [Day 4](#day-4)\n",
    "- [Day 5](#day-5)\n",
    "\n",
    "</td><td>\n",
    "\n",
    "- [Day 6](#day-6)\n",
    "- [Day 7](#day-7)\n",
    "- [Day 8](#day-8)\n",
    "- [Day 9](#day-9)\n",
    "- [Day 10](#day-10)\n",
    "\n",
    "</td><td>\n",
    "\n",
    "- [Day 11](#day-11)\n",
    "- [Day 12](#day-12)\n",
    "- [Day 13](#day-13)\n",
    "- [Day 14](#day-14)\n",
    "- [Day 15](#day-15)\n",
    "\n",
    "</td><td>\n",
    "\n",
    "- [Day 16](#day-16)\n",
    "- [Day 17](#day-17)\n",
    "- [Day 18](#day-18)\n",
    "- [Day 19](#day-19)\n",
    "- [Day 20](#day-20)\n",
    "\n",
    "</td><td>\n",
    "\n",
    "- [Day 21](#day-21)\n",
    "- [Day 22](#day-22)\n",
    "- [Day 23](#day-23)\n",
    "- [Day 24](#day-24)\n",
    "- [Day 25](#day-25)\n",
    "\n",
    "</td></tr>\n",
    "</table>"
   ]
  },
  {
   "cell_type": "markdown",
   "metadata": {},
   "source": [
    "## Boilerplate"
   ]
  },
  {
   "cell_type": "code",
   "execution_count": 84,
   "metadata": {},
   "outputs": [],
   "source": [
    "# SETUP #\n",
    "# Currently just what was needed in 2023, will adjust as we go\n",
    "import sys\n",
    "import math\n",
    "import operator\n",
    "import copy\n",
    "import re\n",
    "import numpy as np\n",
    "import cProfile\n",
    "from itertools import compress, combinations\n",
    "from functools import reduce, cmp_to_key, cache\n",
    "from dataclasses import dataclass\n",
    "from typing import Tuple, List, Dict, TypeVar\n",
    "from collections import Counter\n",
    "\n",
    "T = TypeVar('T')\n",
    "\n",
    "@dataclass\n",
    "class DayData:\n",
    "    input: str\n",
    "    test_input: str\n",
    "    test_solutions: Tuple[int, int]\n",
    "\n",
    "# Load input and solution data #\n",
    "def init_day(day, test_solutions) -> DayData:\n",
    "\n",
    "    def read_file(path):\n",
    "        with open(path, mode=\"rt\") as f:\n",
    "            return f.read()\n",
    "\n",
    "    return DayData(\n",
    "        input = read_file(f\"inputs/{day}.txt\"),\n",
    "        test_input = read_file(f\"test_inputs/{day}.txt\"),\n",
    "        test_solutions = test_solutions\n",
    "    )\n",
    "\n",
    "# Run and test code #\n",
    "def run_test(func_to_run, day_data):\n",
    "    def test(test: int, solution: int):\n",
    "        return \"Success!\" if test == solution else f\"Failed. Expected {solution}, but got {test}.\"\n",
    "\n",
    "    print(f\"Test Part 1: {test(func_to_run(1,day_data.test_input), day_data.test_solutions[0])}\")\n",
    "    print(f\"Test Part 2: {test(func_to_run(2,day_data.test_input), day_data.test_solutions[1])}\")\n",
    "\n",
    "def run_real(func_to_run, day_data):\n",
    "    %time print(f\"Answer Part 1: {func_to_run(1,day_data.input)}\")\n",
    "    %time print(f\"Answer Part 2: {func_to_run(2,day_data.input)}\")\n",
    "\n",
    "# Parsing helpers #\n",
    "def aoc_lines(input) -> List[str]:\n",
    "    return input.strip().splitlines()\n",
    "\n",
    "def aoc_lists(input, type=int, delimiter=None) -> List[List[T]]:\n",
    "    return [[type(item) for item in line.split(delimiter)] for line in aoc_lines(input)]\n",
    "\n",
    "# def aoc_grid(input, type=int) -> List[List[T]]:\n",
    "#     return [[type(item) for item in line] for line in aoc_lines(input)]\n",
    "\n",
    "def aoc_keyvalue(input, delimiter=\":\", key_type=str, value_type=int) -> Dict[T,T]:\n",
    "    return {\n",
    "        key.strip(): value.strip() for key, value in (line.split(delimiter, 1) for line in aoc_lines(input))\n",
    "        }\n"
   ]
  },
  {
   "cell_type": "markdown",
   "metadata": {},
   "source": [
    "## Day 1\n",
    "\n",
    "[Link to puzzle](https://adventofcode.com/2024/day/1)"
   ]
  },
  {
   "cell_type": "code",
   "execution_count": 74,
   "metadata": {},
   "outputs": [
    {
     "name": "stdout",
     "output_type": "stream",
     "text": [
      "Test Part 1: Success!\n",
      "Test Part 2: Success!\n",
      "Answer Part 1: 2815556\n",
      "CPU times: user 1.25 ms, sys: 256 µs, total: 1.5 ms\n",
      "Wall time: 1.29 ms\n",
      "Answer Part 2: 23927637\n",
      "CPU times: user 1.04 ms, sys: 17 µs, total: 1.06 ms\n",
      "Wall time: 1.06 ms\n"
     ]
    }
   ],
   "source": [
    "# DAY 1 #\n",
    "def run(part,i):\n",
    "    left, right = zip(*(aoc_lists(i))) # Divide inputs into left and right columns\n",
    "\n",
    "    def part_1():\n",
    "        differences = [abs(l - r) for l, r in zip(sorted(left), sorted(right))]\n",
    "        return sum(differences)\n",
    "\n",
    "    def part_2():\n",
    "        # Similarity - multiply each number in left list by the number of times it appears in the right list\n",
    "        right_counts = Counter(right) # originally used right.count(), but this is significantly faster (13ms -> 1ms)\n",
    "        return sum(value * right_counts[value] for value in left) \n",
    "\n",
    "    return part_1() if part == 1 else part_2()\n",
    "\n",
    "day_data = init_day(day=1, test_solutions=(11, 31))\n",
    "run_test(run, day_data)\n",
    "run_real(run, day_data)"
   ]
  },
  {
   "cell_type": "markdown",
   "metadata": {},
   "source": [
    "## Day 2\n",
    "\n",
    "[Link to puzzle](https://adventofcode.com/2024/day/2)"
   ]
  },
  {
   "cell_type": "code",
   "execution_count": 75,
   "metadata": {},
   "outputs": [
    {
     "name": "stdout",
     "output_type": "stream",
     "text": [
      "Test Part 1: Success!\n",
      "Test Part 2: Success!\n",
      "Answer Part 1: 585\n",
      "CPU times: user 3.41 ms, sys: 164 µs, total: 3.58 ms\n",
      "Wall time: 3.41 ms\n",
      "Answer Part 2: 626\n",
      "CPU times: user 7.6 ms, sys: 109 µs, total: 7.71 ms\n",
      "Wall time: 7.72 ms\n"
     ]
    }
   ],
   "source": [
    "# DAY 2 #\n",
    "def run(part,i):\n",
    "    def check(report):\n",
    "        def is_safe(levels):\n",
    "            return (\n",
    "                # Safe if levels are asc/desc and no step is <1 or >3\n",
    "                levels in (sorted(levels), sorted(levels, reverse=True))\n",
    "                and all(1 <= abs(right - left) <= 3 for left, right in zip(levels, levels[1:])) # zip magic - this compares positions (0,1),(1,2),etc.\n",
    "            )\n",
    "        \n",
    "        if is_safe(report): return True\n",
    "        \n",
    "        if part == 2: # Safe if any permutation with 1 step removed would be safe\n",
    "            return any(is_safe(report[:pos] + report[pos + 1:]) for pos in range(len(report)))\n",
    "\n",
    "        return False\n",
    "\n",
    "    reports = aoc_lists(i)\n",
    "    return sum(check(report) for report in reports)\n",
    "\n",
    "day_data = init_day(day=2, test_solutions=(2, 4))\n",
    "run_test(run, day_data)\n",
    "run_real(run, day_data)"
   ]
  },
  {
   "cell_type": "markdown",
   "metadata": {},
   "source": [
    "## Day 3\n",
    "\n",
    "[Link to puzzle](https://adventofcode.com/2024/day/3)"
   ]
  },
  {
   "cell_type": "code",
   "execution_count": 103,
   "metadata": {},
   "outputs": [
    {
     "name": "stdout",
     "output_type": "stream",
     "text": [
      "Test Part 1: Success!\n",
      "Test Part 2: Success!\n",
      "Answer Part 1: 170778545\n",
      "CPU times: user 543 µs, sys: 275 µs, total: 818 µs\n",
      "Wall time: 517 µs\n",
      "Answer Part 2: 82868252\n",
      "CPU times: user 370 µs, sys: 40 µs, total: 410 µs\n",
      "Wall time: 363 µs\n"
     ]
    }
   ],
   "source": [
    "# DAY 3 #\n",
    "# and so the regex begins -_- #\n",
    "def run(part,i):\n",
    "    def mul(input: str): # find all mul(), multiply, and then sum the results\n",
    "        matches = re.findall(r\"mul\\((\\d+),(\\d+)\\)\", input) # regex for mul(digits,digits)\n",
    "        return sum(int(a)*int(b) for a,b in matches)\n",
    "\n",
    "    mulstring = i if part == 1 else {\n",
    "        re.sub(r\"don't\\(\\).*?do\\(\\)\", \"\", i, flags=re.DOTALL) # anything between a don't() and the next do() is replaced with \"\"\n",
    "    }\n",
    "    return mul(mulstring)\n",
    "\n",
    "day_data = init_day(day=3, test_solutions=(161, 48))\n",
    "run_test(run, day_data)\n",
    "run_real(run, day_data)"
   ]
  },
  {
   "cell_type": "markdown",
   "metadata": {},
   "source": [
    "## Day 4\n",
    "\n",
    "[Link to puzzle](https://adventofcode.com/2024/day/4)"
   ]
  },
  {
   "cell_type": "code",
   "execution_count": null,
   "metadata": {},
   "outputs": [],
   "source": [
    "# DAY 4 #\n",
    "def run(part,i):\n",
    "    return 1\n",
    "\n",
    "day_data = init_day(day=4, test_solutions=(0, 0))\n",
    "run_test(run, day_data)\n",
    "run_real(run, day_data)"
   ]
  },
  {
   "cell_type": "markdown",
   "metadata": {},
   "source": [
    "## Day 5\n",
    "\n",
    "[Link to puzzle](https://adventofcode.com/2024/day/5)"
   ]
  },
  {
   "cell_type": "code",
   "execution_count": null,
   "metadata": {},
   "outputs": [],
   "source": [
    "# DAY 5 #\n",
    "def run(part,i):\n",
    "    return 1\n",
    "\n",
    "day_data = init_day(day=5, test_solutions=(0, 0))\n",
    "run_test(run, day_data)\n",
    "run_real(run, day_data)"
   ]
  },
  {
   "cell_type": "markdown",
   "metadata": {},
   "source": [
    "## Day 6\n",
    "\n",
    "[Link to puzzle](https://adventofcode.com/2024/day/6)"
   ]
  },
  {
   "cell_type": "code",
   "execution_count": null,
   "metadata": {},
   "outputs": [],
   "source": [
    "# DAY 6 #\n",
    "def run(part,i):\n",
    "    return 1\n",
    "\n",
    "day_data = init_day(day=6, test_solutions=(0, 0))\n",
    "run_test(run, day_data)\n",
    "run_real(run, day_data)"
   ]
  },
  {
   "cell_type": "markdown",
   "metadata": {},
   "source": [
    "## Day 7\n",
    "\n",
    "[Link to puzzle](https://adventofcode.com/2024/day/7)"
   ]
  },
  {
   "cell_type": "code",
   "execution_count": null,
   "metadata": {},
   "outputs": [],
   "source": [
    "# DAY 7 #\n",
    "def run(part,i):\n",
    "    return 1\n",
    "\n",
    "day_data = init_day(day=7, test_solutions=(0, 0))\n",
    "run_test(run, day_data)\n",
    "run_real(run, day_data)"
   ]
  }
 ],
 "metadata": {
  "kernelspec": {
   "display_name": "Python 3.9.6 ('venv': venv)",
   "language": "python",
   "name": "python3"
  },
  "language_info": {
   "codemirror_mode": {
    "name": "ipython",
    "version": 3
   },
   "file_extension": ".py",
   "mimetype": "text/x-python",
   "name": "python",
   "nbconvert_exporter": "python",
   "pygments_lexer": "ipython3",
   "version": "3.9.6"
  },
  "orig_nbformat": 4,
  "vscode": {
   "interpreter": {
    "hash": "8763caf7a1e471221724545bfbf75bc6fca653c642faac8cf5a8de4de83a5881"
   }
  }
 },
 "nbformat": 4,
 "nbformat_minor": 2
}
